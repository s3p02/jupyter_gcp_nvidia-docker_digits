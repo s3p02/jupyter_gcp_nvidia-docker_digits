{
 "cells": [
  {
   "cell_type": "markdown",
   "metadata": {},
   "source": [
    "SREE SAI SHARAN PANTANGI\n",
    "\n",
    "GRADUATE RESEARCH ASSISTANT\n",
    "\n",
    "DEPARTMENT OF ELECTRICAL ENGINEERING\n",
    "\n",
    "UNIVERSITY OF COLORADO DENVER\n"
   ]
  },
  {
   "cell_type": "code",
   "execution_count": 1,
   "metadata": {
    "collapsed": true
   },
   "outputs": [],
   "source": [
    "import os\n",
    "from IPython.display import Image"
   ]
  },
  {
   "cell_type": "code",
   "execution_count": 8,
   "metadata": {
    "collapsed": true
   },
   "outputs": [],
   "source": [
    "digits_server_path='/home/srpa3180/digits'"
   ]
  },
  {
   "cell_type": "markdown",
   "metadata": {},
   "source": [
    "Path may differ on your system"
   ]
  },
  {
   "cell_type": "code",
   "execution_count": 12,
   "metadata": {},
   "outputs": [
    {
     "name": "stdout",
     "output_type": "stream",
     "text": [
      "/home/srpa3180/digits/digits-devserver\n"
     ]
    }
   ],
   "source": [
    "print(digits_server_path+'/digits-devserver')"
   ]
  },
  {
   "cell_type": "code",
   "execution_count": 13,
   "metadata": {},
   "outputs": [
    {
     "data": {
      "text/plain": [
       "256"
      ]
     },
     "execution_count": 13,
     "metadata": {},
     "output_type": "execute_result"
    }
   ],
   "source": [
    "os.system(digits_server_path+'/digits-devserver')"
   ]
  },
  {
   "cell_type": "code",
   "execution_count": 2,
   "metadata": {},
   "outputs": [
    {
     "name": "stdout",
     "output_type": "stream",
     "text": [
      "{\r\n",
      "  \"datasets\": [\r\n",
      "    {\r\n",
      "      \"id\": \"20171021-223223-8f1c\", \r\n",
      "      \"name\": \"flowers_photos_dataset\", \r\n",
      "      \"status\": \"Done\"\r\n",
      "    }, \r\n",
      "    {\r\n",
      "      \"id\": \"20171021-183643-2e75\", \r\n",
      "      \"name\": \"flowers_dataset\", \r\n",
      "      \"status\": \"Done\"\r\n",
      "    }, \r\n",
      "    {\r\n",
      "      \"id\": \"20171021-180050-04e4\", \r\n",
      "      \"name\": \"flowers\", \r\n",
      "      \"status\": \"Done\"\r\n",
      "    }\r\n",
      "  ], \r\n",
      "  \"jobs_dir\": \"/home/srpa3180/digits/digits/jobs\", \r\n",
      "  \"models\": [\r\n",
      "    {\r\n",
      "      \"caffe flavor\": \"NVIDIA\", \r\n",
      "      \"caffe version\": \"0.15.14\", \r\n",
      "      \"creation time\": \"2017-10-21 22:39:36.171840\", \r\n",
      "      \"dataset_id\": \"20171021-223223-8f1c\", \r\n",
      "      \"deploy file\": \"deploy.prototxt\", \r\n",
      "      \"digits version\": \"6.0.0-rc.2\", \r\n",
      "      \"framework\": \"caffe\", \r\n",
      "      \"id\": \"20171021-223936-a197\", \r\n",
      "      \"image dimensions\": [\r\n",
      "        240, \r\n",
      "        240, \r\n",
      "        1\r\n",
      "      ], \r\n",
      "      \"image resize mode\": \"squash\", \r\n",
      "      \"job id\": \"20171021-223936-a197\", \r\n",
      "      \"labels file\": \"labels.txt\", \r\n",
      "      \"mean file\": \"mean.binaryproto\", \r\n",
      "      \"model file\": \"original.prototxt\", \r\n",
      "      \"name\": \"flowers_photos_googlenet\", \r\n",
      "      \"snapshot file\": \"snapshot_iter_2610.caffemodel\", \r\n",
      "      \"solver file\": \"solver.prototxt\", \r\n",
      "      \"status\": \"Done\", \r\n",
      "      \"train_val file\": \"train_val.prototxt\", \r\n",
      "      \"username\": \"sree\"\r\n",
      "    }, \r\n",
      "    {\r\n",
      "      \"caffe flavor\": \"NVIDIA\", \r\n",
      "      \"caffe version\": \"0.15.14\", \r\n",
      "      \"creation time\": \"2017-10-21 18:48:03.407964\", \r\n",
      "      \"dataset_id\": \"20171021-183643-2e75\", \r\n",
      "      \"deploy file\": \"deploy.prototxt\", \r\n",
      "      \"digits version\": \"6.0.0-rc.2\", \r\n",
      "      \"framework\": \"caffe\", \r\n",
      "      \"id\": \"20171021-184803-73d7\", \r\n",
      "      \"image dimensions\": [\r\n",
      "        240, \r\n",
      "        240, \r\n",
      "        1\r\n",
      "      ], \r\n",
      "      \"image resize mode\": \"squash\", \r\n",
      "      \"job id\": \"20171021-184803-73d7\", \r\n",
      "      \"labels file\": \"labels.txt\", \r\n",
      "      \"mean file\": \"mean.binaryproto\", \r\n",
      "      \"model file\": \"original.prototxt\", \r\n",
      "      \"name\": \"flowers_googlenet\", \r\n",
      "      \"snapshot file\": \"snapshot_iter_2610.caffemodel\", \r\n",
      "      \"solver file\": \"solver.prototxt\", \r\n",
      "      \"status\": \"Done\", \r\n",
      "      \"train_val file\": \"train_val.prototxt\", \r\n",
      "      \"username\": \"sree\"\r\n",
      "    }, \r\n",
      "    {\r\n",
      "      \"caffe flavor\": \"NVIDIA\", \r\n",
      "      \"caffe version\": \"0.15.14\", \r\n",
      "      \"creation time\": \"2017-10-21 18:02:45.271412\", \r\n",
      "      \"dataset_id\": \"20171021-180050-04e4\", \r\n",
      "      \"deploy file\": \"deploy.prototxt\", \r\n",
      "      \"digits version\": \"6.0.0-rc.2\", \r\n",
      "      \"framework\": \"caffe\", \r\n",
      "      \"id\": \"20171021-180245-0ec7\", \r\n",
      "      \"image dimensions\": [\r\n",
      "        256, \r\n",
      "        256, \r\n",
      "        3\r\n",
      "      ], \r\n",
      "      \"image resize mode\": \"squash\", \r\n",
      "      \"job id\": \"20171021-180245-0ec7\", \r\n",
      "      \"labels file\": \"labels.txt\", \r\n",
      "      \"mean file\": \"mean.binaryproto\", \r\n",
      "      \"model file\": \"original.prototxt\", \r\n",
      "      \"name\": \"flowers\", \r\n",
      "      \"snapshot file\": \"snapshot_iter_1392.caffemodel\", \r\n",
      "      \"solver file\": \"solver.prototxt\", \r\n",
      "      \"status\": \"Aborted\", \r\n",
      "      \"train_val file\": \"train_val.prototxt\", \r\n",
      "      \"username\": \"pantangs\"\r\n",
      "    }\r\n",
      "  ], \r\n",
      "  \"server_name\": \"deeplearn-gpu\", \r\n",
      "  \"version\": \"6.0.0-rc.2\"\r\n",
      "}"
     ]
    }
   ],
   "source": [
    "!curl localhost:5000/index.json"
   ]
  },
  {
   "cell_type": "markdown",
   "metadata": {},
   "source": [
    "           "
   ]
  },
  {
   "cell_type": "markdown",
   "metadata": {},
   "source": [
    "In order to create a dataset, you will first need to log in. The following command will log us in as user sree, you may enter your name."
   ]
  },
  {
   "cell_type": "code",
   "execution_count": 3,
   "metadata": {},
   "outputs": [
    {
     "name": "stdout",
     "output_type": "stream",
     "text": [
      "<!DOCTYPE HTML PUBLIC \"-//W3C//DTD HTML 3.2 Final//EN\">\r\n",
      "<title>Redirecting...</title>\r\n",
      "<h1>Redirecting...</h1>\r\n",
      "<p>You should be redirected automatically to target URL: <a href=\"/\">/</a>.  If not click the link."
     ]
    }
   ],
   "source": [
    "!curl localhost:5000/login -c digits.cookie -XPOST -F username=sree"
   ]
  },
  {
   "cell_type": "markdown",
   "metadata": {},
   "source": [
    "    "
   ]
  },
  {
   "cell_type": "markdown",
   "metadata": {},
   "source": [
    "For our dataset, we shall use google's creative-commons licensed flower photos"
   ]
  },
  {
   "cell_type": "code",
   "execution_count": 4,
   "metadata": {},
   "outputs": [
    {
     "name": "stdout",
     "output_type": "stream",
     "text": [
      "  % Total    % Received % Xferd  Average Speed   Time    Time     Time  Current\n",
      "                                 Dload  Upload   Total   Spent    Left  Speed\n",
      "100  218M  100  218M    0     0   109M      0  0:00:02  0:00:02 --:--:-- 90.5M\n"
     ]
    }
   ],
   "source": [
    "!curl http://download.tensorflow.org/example_images/flower_photos.tgz \\\n",
    "    | tar xz -C ~/"
   ]
  },
  {
   "cell_type": "code",
   "execution_count": 5,
   "metadata": {},
   "outputs": [
    {
     "name": "stdout",
     "output_type": "stream",
     "text": [
      "daisy  dandelion  LICENSE.txt  roses  sunflowers  tulips\r\n"
     ]
    }
   ],
   "source": [
    "!ls ~/flower_photos"
   ]
  },
  {
   "cell_type": "markdown",
   "metadata": {},
   "source": [
    "   "
   ]
  },
  {
   "cell_type": "code",
   "execution_count": 6,
   "metadata": {
    "collapsed": true
   },
   "outputs": [],
   "source": [
    "FLOWER_PHOTO_PATH='/home/srpa3180/flower_photos/'"
   ]
  },
  {
   "cell_type": "code",
   "execution_count": 7,
   "metadata": {},
   "outputs": [
    {
     "name": "stdout",
     "output_type": "stream",
     "text": [
      "{\r\n",
      "  \"id\": \"20171021-232453-3aa5\", \r\n",
      "  \"name\": \"google_flowers_dataset\", \r\n",
      "  \"status\": \"Initialized\"\r\n",
      "}"
     ]
    }
   ],
   "source": [
    "!curl localhost:5000/datasets/images/classification.json -b digits.cookie -XPOST -F folder_train=$FLOWER_PHOTO_PATH -F encoding=jpg -F resize_channels=1 -F resize_width=240 -F resize_height=240 -F method=folder -F dataset_name=google_flowers_dataset"
   ]
  },
  {
   "cell_type": "markdown",
   "metadata": {},
   "source": [
    "Its Important we note down the dataset id from the above response"
   ]
  },
  {
   "cell_type": "markdown",
   "metadata": {},
   "source": [
    "    "
   ]
  },
  {
   "cell_type": "code",
   "execution_count": 10,
   "metadata": {
    "collapsed": true
   },
   "outputs": [],
   "source": [
    "GOOGLE_FLOWERS_DATASET_ID='20171021-232453-3aa5'"
   ]
  },
  {
   "cell_type": "code",
   "execution_count": 11,
   "metadata": {},
   "outputs": [
    {
     "name": "stdout",
     "output_type": "stream",
     "text": [
      "{\"status\": \"Done\", \"type\": \"Image Classification Dataset\", \"name\": \"google_flowers_dataset\", \"error\": null}"
     ]
    }
   ],
   "source": [
    "!curl localhost:5000/datasets/$GOOGLE_FLOWERS_DATASET_ID/status"
   ]
  },
  {
   "cell_type": "markdown",
   "metadata": {},
   "source": [
    "   "
   ]
  },
  {
   "cell_type": "markdown",
   "metadata": {},
   "source": [
    "To get a detailed description of the dataset, we can call the json using the dataset ID"
   ]
  },
  {
   "cell_type": "code",
   "execution_count": 14,
   "metadata": {},
   "outputs": [
    {
     "name": "stdout",
     "output_type": "stream",
     "text": [
      "{\r\n",
      "  \"CreateDbTasks\": [\r\n",
      "    {\r\n",
      "      \"backend\": \"lmdb\", \r\n",
      "      \"compression\": \"none\", \r\n",
      "      \"encoding\": \"jpg\", \r\n",
      "      \"entries\": 2753, \r\n",
      "      \"image_channels\": 1, \r\n",
      "      \"image_height\": 240, \r\n",
      "      \"image_width\": 240, \r\n",
      "      \"name\": \"Create DB (train)\"\r\n",
      "    }, \r\n",
      "    {\r\n",
      "      \"backend\": \"lmdb\", \r\n",
      "      \"compression\": \"none\", \r\n",
      "      \"encoding\": \"jpg\", \r\n",
      "      \"entries\": 917, \r\n",
      "      \"image_channels\": 1, \r\n",
      "      \"image_height\": 240, \r\n",
      "      \"image_width\": 240, \r\n",
      "      \"name\": \"Create DB (val)\"\r\n",
      "    }\r\n",
      "  ], \r\n",
      "  \"ParseFolderTasks\": [\r\n",
      "    {\r\n",
      "      \"label_count\": 5, \r\n",
      "      \"name\": \"Parse Folder (train/val)\", \r\n",
      "      \"test_count\": 0, \r\n",
      "      \"train_count\": 2753, \r\n",
      "      \"val_count\": 917\r\n",
      "    }\r\n",
      "  ], \r\n",
      "  \"directory\": \"/home/srpa3180/digits/digits/jobs/20171021-232453-3aa5\", \r\n",
      "  \"id\": \"20171021-232453-3aa5\", \r\n",
      "  \"name\": \"google_flowers_dataset\", \r\n",
      "  \"status\": \"Done\"\r\n",
      "}"
     ]
    }
   ],
   "source": [
    "!curl localhost:5000/datasets/20171021-232453-3aa5.json"
   ]
  },
  {
   "cell_type": "code",
   "execution_count": 15,
   "metadata": {},
   "outputs": [
    {
     "name": "stdout",
     "output_type": "stream",
     "text": [
      "{\r\n",
      "  \"caffe flavor\": \"NVIDIA\", \r\n",
      "  \"caffe version\": \"0.15.14\", \r\n",
      "  \"creation time\": \"2017-10-21 23:32:27.875822\", \r\n",
      "  \"dataset_id\": \"20171021-232453-3aa5\", \r\n",
      "  \"deploy file\": \"deploy.prototxt\", \r\n",
      "  \"digits version\": \"6.0.0-rc.2\", \r\n",
      "  \"framework\": \"caffe\", \r\n",
      "  \"id\": \"20171021-233227-14c3\", \r\n",
      "  \"image dimensions\": [\r\n",
      "    240, \r\n",
      "    240, \r\n",
      "    1\r\n",
      "  ], \r\n",
      "  \"image resize mode\": \"squash\", \r\n",
      "  \"job id\": \"20171021-233227-14c3\", \r\n",
      "  \"labels file\": \"labels.txt\", \r\n",
      "  \"mean file\": \"mean.binaryproto\", \r\n",
      "  \"model file\": \"original.prototxt\", \r\n",
      "  \"name\": \"google_flowers_model\", \r\n",
      "  \"snapshot file\": \"no snapshots\", \r\n",
      "  \"solver file\": \"solver.prototxt\", \r\n",
      "  \"status\": \"Initialized\", \r\n",
      "  \"train_val file\": \"train_val.prototxt\", \r\n",
      "  \"username\": \"sree\"\r\n",
      "}"
     ]
    }
   ],
   "source": [
    "!curl localhost:5000/models/images/classification.json -b digits.cookie -XPOST -F method=standard -F standard_networks=googlenet -F train_epochs=30 -F framework=caffe -F model_name=google_flowers_model -F dataset=20171021-232453-3aa5"
   ]
  },
  {
   "cell_type": "code",
   "execution_count": 16,
   "metadata": {},
   "outputs": [
    {
     "name": "stdout",
     "output_type": "stream",
     "text": [
      "{\r\n",
      "  \"caffe flavor\": \"NVIDIA\", \r\n",
      "  \"caffe version\": \"0.15.14\", \r\n",
      "  \"creation time\": \"2017-10-21 23:32:27.875822\", \r\n",
      "  \"dataset_id\": \"20171021-232453-3aa5\", \r\n",
      "  \"deploy file\": \"deploy.prototxt\", \r\n",
      "  \"digits version\": \"6.0.0-rc.2\", \r\n",
      "  \"directory\": \"/home/srpa3180/digits/digits/jobs/20171021-233227-14c3\", \r\n",
      "  \"framework\": \"caffe\", \r\n",
      "  \"id\": \"20171021-233227-14c3\", \r\n",
      "  \"image dimensions\": [\r\n",
      "    240, \r\n",
      "    240, \r\n",
      "    1\r\n",
      "  ], \r\n",
      "  \"image resize mode\": \"squash\", \r\n",
      "  \"job id\": \"20171021-233227-14c3\", \r\n",
      "  \"labels file\": \"labels.txt\", \r\n",
      "  \"mean file\": \"mean.binaryproto\", \r\n",
      "  \"model file\": \"original.prototxt\", \r\n",
      "  \"name\": \"google_flowers_model\", \r\n",
      "  \"snapshot file\": \"snapshot_iter_87.caffemodel\", \r\n",
      "  \"snapshots\": [\r\n",
      "    1\r\n",
      "  ], \r\n",
      "  \"solver file\": \"solver.prototxt\", \r\n",
      "  \"status\": \"Running\", \r\n",
      "  \"train_val file\": \"train_val.prototxt\", \r\n",
      "  \"username\": \"sree\"\r\n",
      "}"
     ]
    }
   ],
   "source": [
    "!curl localhost:5000/models/20171021-233227-14c3.json"
   ]
  },
  {
   "cell_type": "code",
   "execution_count": 17,
   "metadata": {},
   "outputs": [
    {
     "name": "stdout",
     "output_type": "stream",
     "text": [
      "Sat Oct 21 23:34:36 2017       \r\n",
      "+-----------------------------------------------------------------------------+\r\n",
      "| NVIDIA-SMI 384.66                 Driver Version: 384.66                    |\r\n",
      "|-------------------------------+----------------------+----------------------+\r\n",
      "| GPU  Name        Persistence-M| Bus-Id        Disp.A | Volatile Uncorr. ECC |\r\n",
      "| Fan  Temp  Perf  Pwr:Usage/Cap|         Memory-Usage | GPU-Util  Compute M. |\r\n",
      "|===============================+======================+======================|\r\n",
      "|   0  Tesla K80           Off  | 00000000:00:04.0 Off |                    0 |\r\n",
      "| N/A   41C    P0    95W / 149W |   3465MiB / 11439MiB |     92%      Default |\r\n",
      "+-------------------------------+----------------------+----------------------+\r\n",
      "                                                                               \r\n",
      "+-----------------------------------------------------------------------------+\r\n",
      "| Processes:                                                       GPU Memory |\r\n",
      "|  GPU       PID  Type  Process name                               Usage      |\r\n",
      "|=============================================================================|\r\n",
      "|    0      5849    C   python2                                         62MiB |\r\n",
      "|    0      6073    C   /home/srpa3180/caffe/build/tools/caffe        3390MiB |\r\n",
      "+-----------------------------------------------------------------------------+\r\n"
     ]
    }
   ],
   "source": [
    "!nvidia-smi"
   ]
  },
  {
   "cell_type": "code",
   "execution_count": 18,
   "metadata": {},
   "outputs": [
    {
     "name": "stdout",
     "output_type": "stream",
     "text": [
      "--2017-10-21 23:35:03--  https://upload.wikimedia.org/wikipedia/commons/thumb/7/7b/Yonina_Tulip.jpg/220px-Yonina_Tulip.jpg\n",
      "Resolving upload.wikimedia.org (upload.wikimedia.org)... 198.35.26.112, 2620:0:863:ed1a::2:b\n",
      "Connecting to upload.wikimedia.org (upload.wikimedia.org)|198.35.26.112|:443... connected.\n",
      "HTTP request sent, awaiting response... 200 OK\n",
      "Length: 11827 (12K) [image/jpeg]\n",
      "Saving to: ‘/home/srpa3180/220px-Yonina_Tulip.jpg’\n",
      "\n",
      "100%[======================================>] 11,827      --.-K/s   in 0s      \n",
      "\n",
      "2017-10-21 23:35:03 (89.6 MB/s) - ‘/home/srpa3180/220px-Yonina_Tulip.jpg’ saved [11827/11827]\n",
      "\n"
     ]
    }
   ],
   "source": [
    "!wget https://upload.wikimedia.org/wikipedia/commons/thumb/7/7b/Yonina_Tulip.jpg/220px-Yonina_Tulip.jpg -P ~/"
   ]
  },
  {
   "cell_type": "code",
   "execution_count": 19,
   "metadata": {},
   "outputs": [
    {
     "data": {
      "image/jpeg": "[encoded data removed]",
      "text/plain": [
       "<IPython.core.display.Image object>"
      ]
     },
     "execution_count": 19,
     "metadata": {},
     "output_type": "execute_result"
    }
   ],
   "source": [
    "Image('/home/srpa3180/220px-Yonina_Tulip.jpg')"
   ]
  },
  {
   "cell_type": "code",
   "execution_count": 22,
   "metadata": {},
   "outputs": [
    {
     "name": "stdout",
     "output_type": "stream",
     "text": [
      "{\r\n",
      "  \"predictions\": [\r\n",
      "    [\r\n",
      "      \"dandelion\", \r\n",
      "      27.11\r\n",
      "    ], \r\n",
      "    [\r\n",
      "      \"sunflowers\", \r\n",
      "      27.05\r\n",
      "    ], \r\n",
      "    [\r\n",
      "      \"daisy\", \r\n",
      "      18.25\r\n",
      "    ], \r\n",
      "    [\r\n",
      "      \"tulips\", \r\n",
      "      14.26\r\n",
      "    ], \r\n",
      "    [\r\n",
      "      \"roses\", \r\n",
      "      13.34\r\n",
      "    ]\r\n",
      "  ]\r\n",
      "}"
     ]
    }
   ],
   "source": [
    "!curl localhost:5000/models/images/classification/classify_one.json -XPOST -F job_id=20171021-233227-14c3 -F image_file=@/home/srpa3180/220px-Yonina_Tulip.jpg"
   ]
  },
  {
   "cell_type": "code",
   "execution_count": 30,
   "metadata": {},
   "outputs": [
    {
     "name": "stdout",
     "output_type": "stream",
     "text": [
      "{\r\n",
      "  \"caffe flavor\": \"NVIDIA\", \r\n",
      "  \"caffe version\": \"0.15.14\", \r\n",
      "  \"creation time\": \"2017-10-21 23:32:27.875822\", \r\n",
      "  \"dataset_id\": \"20171021-232453-3aa5\", \r\n",
      "  \"deploy file\": \"deploy.prototxt\", \r\n",
      "  \"digits version\": \"6.0.0-rc.2\", \r\n",
      "  \"directory\": \"/home/srpa3180/digits/digits/jobs/20171021-233227-14c3\", \r\n",
      "  \"framework\": \"caffe\", \r\n",
      "  \"id\": \"20171021-233227-14c3\", \r\n",
      "  \"image dimensions\": [\r\n",
      "    240, \r\n",
      "    240, \r\n",
      "    1\r\n",
      "  ], \r\n",
      "  \"image resize mode\": \"squash\", \r\n",
      "  \"job id\": \"20171021-233227-14c3\", \r\n",
      "  \"labels file\": \"labels.txt\", \r\n",
      "  \"mean file\": \"mean.binaryproto\", \r\n",
      "  \"model file\": \"original.prototxt\", \r\n",
      "  \"name\": \"google_flowers_model\", \r\n",
      "  \"snapshot file\": \"snapshot_iter_1218.caffemodel\", \r\n",
      "  \"snapshots\": [\r\n",
      "    1, \r\n",
      "    2, \r\n",
      "    3, \r\n",
      "    4, \r\n",
      "    5, \r\n",
      "    6, \r\n",
      "    7, \r\n",
      "    8, \r\n",
      "    9, \r\n",
      "    10, \r\n",
      "    11, \r\n",
      "    12, \r\n",
      "    13, \r\n",
      "    14\r\n",
      "  ], \r\n",
      "  \"solver file\": \"solver.prototxt\", \r\n",
      "  \"status\": \"Running\", \r\n",
      "  \"train_val file\": \"train_val.prototxt\", \r\n",
      "  \"username\": \"sree\"\r\n",
      "}"
     ]
    }
   ],
   "source": [
    "!curl localhost:5000/models/20171021-233227-14c3.json"
   ]
  },
  {
   "cell_type": "code",
   "execution_count": 31,
   "metadata": {},
   "outputs": [
    {
     "name": "stdout",
     "output_type": "stream",
     "text": [
      "{\r\n",
      "  \"predictions\": [\r\n",
      "    [\r\n",
      "      \"tulips\", \r\n",
      "      79.28\r\n",
      "    ], \r\n",
      "    [\r\n",
      "      \"roses\", \r\n",
      "      17.48\r\n",
      "    ], \r\n",
      "    [\r\n",
      "      \"sunflowers\", \r\n",
      "      1.54\r\n",
      "    ], \r\n",
      "    [\r\n",
      "      \"dandelion\", \r\n",
      "      0.91\r\n",
      "    ], \r\n",
      "    [\r\n",
      "      \"daisy\", \r\n",
      "      0.78\r\n",
      "    ]\r\n",
      "  ]\r\n",
      "}"
     ]
    }
   ],
   "source": [
    "!curl localhost:5000/models/images/classification/classify_one.json -XPOST -F job_id=20171021-233227-14c3 -F image_file=@/home/srpa3180/220px-Yonina_Tulip.jpg"
   ]
  },
  {
   "cell_type": "markdown",
   "metadata": {},
   "source": [
    "The classification gets better, with each epoch, as seen above, our classifier has performed better, with classifying tulips with the prediction increasing from 14% to ~80%"
   ]
  },
  {
   "cell_type": "markdown",
   "metadata": {},
   "source": [
    "We create a directory to copy our model for deployment"
   ]
  },
  {
   "cell_type": "code",
   "execution_count": 32,
   "metadata": {
    "collapsed": true
   },
   "outputs": [],
   "source": [
    "!mkdir ~/my_caffe_classifier"
   ]
  },
  {
   "cell_type": "markdown",
   "metadata": {},
   "source": [
    "!cp"
   ]
  },
  {
   "cell_type": "markdown",
   "metadata": {},
   "source": [
    "   "
   ]
  },
  {
   "cell_type": "code",
   "execution_count": 39,
   "metadata": {},
   "outputs": [
    {
     "name": "stdout",
     "output_type": "stream",
     "text": [
      "{\r\n",
      "  \"caffe flavor\": \"NVIDIA\", \r\n",
      "  \"caffe version\": \"0.15.14\", \r\n",
      "  \"creation time\": \"2017-10-21 23:32:27.875822\", \r\n",
      "  \"dataset_id\": \"20171021-232453-3aa5\", \r\n",
      "  \"deploy file\": \"deploy.prototxt\", \r\n",
      "  \"digits version\": \"6.0.0-rc.2\", \r\n",
      "  \"directory\": \"/home/srpa3180/digits/digits/jobs/20171021-233227-14c3\", \r\n",
      "  \"framework\": \"caffe\", \r\n",
      "  \"id\": \"20171021-233227-14c3\", \r\n",
      "  \"image dimensions\": [\r\n",
      "    240, \r\n",
      "    240, \r\n",
      "    1\r\n",
      "  ], \r\n",
      "  \"image resize mode\": \"squash\", \r\n",
      "  \"job id\": \"20171021-233227-14c3\", \r\n",
      "  \"labels file\": \"labels.txt\", \r\n",
      "  \"mean file\": \"mean.binaryproto\", \r\n",
      "  \"model file\": \"original.prototxt\", \r\n",
      "  \"name\": \"google_flowers_model\", \r\n",
      "  \"snapshot file\": \"snapshot_iter_2610.caffemodel\", \r\n",
      "  \"snapshots\": [\r\n",
      "    1, \r\n",
      "    2, \r\n",
      "    3, \r\n",
      "    4, \r\n",
      "    5, \r\n",
      "    6, \r\n",
      "    7, \r\n",
      "    8, \r\n",
      "    9, \r\n",
      "    10, \r\n",
      "    11, \r\n",
      "    12, \r\n",
      "    13, \r\n",
      "    14, \r\n",
      "    15, \r\n",
      "    16, \r\n",
      "    17, \r\n",
      "    18, \r\n",
      "    19, \r\n",
      "    20, \r\n",
      "    21, \r\n",
      "    22, \r\n",
      "    23, \r\n",
      "    24, \r\n",
      "    25, \r\n",
      "    26, \r\n",
      "    27, \r\n",
      "    28, \r\n",
      "    29, \r\n",
      "    30\r\n",
      "  ], \r\n",
      "  \"solver file\": \"solver.prototxt\", \r\n",
      "  \"status\": \"Done\", \r\n",
      "  \"train_val file\": \"train_val.prototxt\", \r\n",
      "  \"username\": \"sree\"\r\n",
      "}"
     ]
    }
   ],
   "source": [
    "!curl localhost:5000/models/20171021-233227-14c3.json"
   ]
  },
  {
   "cell_type": "markdown",
   "metadata": {},
   "source": [
    "Path to our caffe model and the dataset is same, they are unique by their joid ID's', such that a dataset can be reused if required. This can be obtained from the description above, using '!curl localhost:5000/models/_._MODEL_._JOB_._ID_._.json'"
   ]
  },
  {
   "cell_type": "code",
   "execution_count": 40,
   "metadata": {
    "collapsed": true
   },
   "outputs": [],
   "source": [
    "job_model_path='/home/srpa3180/digits/digits/jobs/20171021-233227-14c3'"
   ]
  },
  {
   "cell_type": "code",
   "execution_count": 41,
   "metadata": {
    "collapsed": true
   },
   "outputs": [],
   "source": [
    "job_dataset_path='/home/srpa3180/digits/digits/jobs/20171021-232453-3aa5'"
   ]
  },
  {
   "cell_type": "code",
   "execution_count": 42,
   "metadata": {},
   "outputs": [
    {
     "name": "stdout",
     "output_type": "stream",
     "text": [
      "caffe_output.log\t       snapshot_iter_2349.caffemodel\r\n",
      "deploy.prototxt\t\t       snapshot_iter_2436.caffemodel\r\n",
      "original.prototxt\t       snapshot_iter_2523.caffemodel\r\n",
      "snapshot_iter_1044.caffemodel  snapshot_iter_2610.caffemodel\r\n",
      "snapshot_iter_1131.caffemodel  snapshot_iter_2610.solverstate\r\n",
      "snapshot_iter_1218.caffemodel  snapshot_iter_261.caffemodel\r\n",
      "snapshot_iter_1305.caffemodel  snapshot_iter_348.caffemodel\r\n",
      "snapshot_iter_1392.caffemodel  snapshot_iter_435.caffemodel\r\n",
      "snapshot_iter_1479.caffemodel  snapshot_iter_522.caffemodel\r\n",
      "snapshot_iter_1566.caffemodel  snapshot_iter_609.caffemodel\r\n",
      "snapshot_iter_1653.caffemodel  snapshot_iter_696.caffemodel\r\n",
      "snapshot_iter_1740.caffemodel  snapshot_iter_783.caffemodel\r\n",
      "snapshot_iter_174.caffemodel   snapshot_iter_870.caffemodel\r\n",
      "snapshot_iter_1827.caffemodel  snapshot_iter_87.caffemodel\r\n",
      "snapshot_iter_1914.caffemodel  snapshot_iter_957.caffemodel\r\n",
      "snapshot_iter_2001.caffemodel  solver.prototxt\r\n",
      "snapshot_iter_2088.caffemodel  status.pickle\r\n",
      "snapshot_iter_2175.caffemodel  train_val.prototxt\r\n",
      "snapshot_iter_2262.caffemodel\r\n"
     ]
    }
   ],
   "source": [
    "!ls $job_model_path"
   ]
  },
  {
   "cell_type": "code",
   "execution_count": 43,
   "metadata": {},
   "outputs": [
    {
     "name": "stdout",
     "output_type": "stream",
     "text": [
      "create_train_db.log  labels.txt        mean.jpg       train_db\t val_db\r\n",
      "create_val_db.log    mean.binaryproto  status.pickle  train.txt  val.txt\r\n"
     ]
    }
   ],
   "source": [
    "!ls $job_dataset_path"
   ]
  },
  {
   "cell_type": "code",
   "execution_count": 45,
   "metadata": {},
   "outputs": [],
   "source": [
    "!cp $job_model_path/deploy.prototxt ~/my_caffe_classifier"
   ]
  },
  {
   "cell_type": "code",
   "execution_count": 46,
   "metadata": {
    "collapsed": true
   },
   "outputs": [],
   "source": [
    "!cp $job_dataset_path/labels.txt ~/my_caffe_classifier"
   ]
  },
  {
   "cell_type": "code",
   "execution_count": 47,
   "metadata": {
    "collapsed": true
   },
   "outputs": [],
   "source": [
    "!cp $job_dataset_path/mean.binaryproto ~/my_caffe_classifier"
   ]
  },
  {
   "cell_type": "code",
   "execution_count": 48,
   "metadata": {
    "collapsed": true
   },
   "outputs": [],
   "source": [
    "!cp $job_model_path/original.prototxt ~/my_caffe_classifier"
   ]
  },
  {
   "cell_type": "code",
   "execution_count": 49,
   "metadata": {
    "collapsed": true
   },
   "outputs": [],
   "source": [
    "!cp $job_model_path/snapshot_iter_2610.caffemodel ~/my_caffe_classifier"
   ]
  },
  {
   "cell_type": "code",
   "execution_count": 50,
   "metadata": {
    "collapsed": true
   },
   "outputs": [],
   "source": [
    "!cp $job_model_path/solver.prototxt ~/my_caffe_classifier"
   ]
  },
  {
   "cell_type": "code",
   "execution_count": 51,
   "metadata": {
    "collapsed": true
   },
   "outputs": [],
   "source": [
    "!cp $job_model_path/train_val.prototxt ~/my_caffe_classifier"
   ]
  },
  {
   "cell_type": "code",
   "execution_count": 52,
   "metadata": {},
   "outputs": [
    {
     "name": "stdout",
     "output_type": "stream",
     "text": [
      "deploy.prototxt   original.prototxt\t\t train_val.prototxt\r\n",
      "labels.txt\t  snapshot_iter_2610.caffemodel\r\n",
      "mean.binaryproto  solver.prototxt\r\n"
     ]
    }
   ],
   "source": [
    "!ls ~/my_caffe_classifier"
   ]
  },
  {
   "cell_type": "code",
   "execution_count": null,
   "metadata": {
    "collapsed": true
   },
   "outputs": [],
   "source": []
  }
 ],
 "metadata": {
  "kernelspec": {
   "display_name": "Python 2",
   "language": "python",
   "name": "python2"
  },
  "language_info": {
   "codemirror_mode": {
    "name": "ipython",
    "version": 2
   },
   "file_extension": ".py",
   "mimetype": "text/x-python",
   "name": "python",
   "nbconvert_exporter": "python",
   "pygments_lexer": "ipython2",
   "version": "2.7.13"
  }
 },
 "nbformat": 4,
 "nbformat_minor": 2
}
